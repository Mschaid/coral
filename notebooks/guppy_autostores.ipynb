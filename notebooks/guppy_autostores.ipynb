{
 "cells": [
  {
   "cell_type": "markdown",
   "metadata": {},
   "source": [
    "# Generating storeslist and removing pynapse.csv output files\n",
    "## 1. Run the imports and function definitions cell below"
   ]
  },
  {
   "cell_type": "code",
   "execution_count": 1,
   "metadata": {},
   "outputs": [],
   "source": [
    "\n",
    "import os\n",
    "import pandas as pd\n",
    "import glob\n",
    "from pathlib import Path\n",
    "import shutil\n",
    "from typing import List, Dict\n",
    "\n",
    "def create_new_dir(file_path: str, new_dir_ext: str) -> str:\n",
    "    \"\"\"\n",
    "    # Summary\n",
    "\n",
    "    creates new empty directory for file management downstream\n",
    "\n",
    "    ## Args\n",
    "    file_path:str - path for new directory to be stored\n",
    "    new_dir__ext:str - name of new created directory\n",
    "\n",
    "    ## Returns: None\n",
    "    if directory does not already exists, creates new directory and prints directory created\n",
    "    \n",
    "    if directory already exists, does nothing and prints \"directory already exists\"\n",
    "\n",
    "\n",
    "    ### example\n",
    "        >>> create_new_dir(file_path='/Users/user/Desktop/', new_dir_ext='my_folder')\n",
    "        >>>'/Users/user/Desktop/my_folder'\n",
    "        >>> 'directroy created'\n",
    "    \"\"\"\n",
    "    new_directory = os.path.join(file_path, new_dir_ext)\n",
    "    if not os.path.exists(new_directory):\n",
    "            os.mkdir(new_directory)\n",
    "    else:\n",
    "           pass\n",
    "\n",
    "def list_subdirs(directory: str)-> List[str]:\n",
    "    \"\"\" given directory, returns list of all sub dirs as full path\"\"\"\n",
    "    return [os.path.join(directory, file) for file in os.listdir(directory)]\n",
    "\n",
    "def find_all_directories_with_keyword(directory: str, keyword:str)-> List[str]:\n",
    "    \"\"\" searches directory for keyword string in the path name and returns list of full paths that contain that string\"\"\"\n",
    "    paths = []\n",
    "\n",
    "    for dirpaths, dirnames, _ in os.walk(directory):\n",
    "         if keyword in dirpaths:\n",
    "            paths.append(dirpaths)\n",
    "    return paths\n",
    "\n",
    "def create_output_directories(path:str)-> None:\n",
    "    \n",
    "    sub_direcotries = list_subdirs(path)\n",
    "\n",
    "    for s in sub_direcotries:\n",
    "\n",
    "        basename = os.path.basename(s)\n",
    "        if '.' in basename:\n",
    "            pass\n",
    "        else:\n",
    "            create_new_dir(s, f\"{basename}_output_1\")       \n",
    "\n",
    "def remove_pynapse_csv_files(path:str)-> None:\n",
    "    \"\"\" removes all pynapse csv files in directory\"\"\"\n",
    "    path = Path(path)\n",
    "    files_to_remove = [f for f in path.rglob('*') if f.name.startswith('Pynapse')]\n",
    "    print(files_to_remove)\n",
    "    for f in files_to_remove:\n",
    "        f.unlink()\n",
    "\n",
    "def autostores_list(path:str, directory_keyword:str, stores_list:Dict[str, Dict[int, str]]) -> None:\n",
    "    \"\"\" given path, directory keyword, and stores list, saves stores list to all directories with keyword in path\"\"\"\n",
    "    dirs_to_save_storeslist = find_all_directories_with_keyword(path, directory_keyword)\n",
    "    paths_to_save = [os.path.join(d, 'storesList.csv') for d in dirs_to_save_storeslist]\n",
    "    \n",
    "    df = pd.DataFrame.from_dict(stores_list)\n",
    "    for path in paths_to_save:\n",
    "        df.to_csv(path, index = False)\n",
    "\n",
    "\n"
   ]
  },
  {
   "cell_type": "markdown",
   "metadata": {},
   "source": [
    "\n",
    "# 2. Define variables (path and storeslist)\n",
    "* Define your path where *all* tdt files are stored in PATH\n",
    "* Define your storeslist in STORES_LIST\n"
   ]
  },
  {
   "cell_type": "code",
   "execution_count": 2,
   "metadata": {},
   "outputs": [],
   "source": [
    "PATH = '//Users/mds8301/Desktop/temp'\n",
    "STORES_LIST = {\n",
    "    '405A': {0: 'control_NAC'},\n",
    "    '405C': {0: 'control_LHA'},\n",
    "    '465A': {0: 'signal_NAC'},\n",
    "    '465C': {0: 'signal_LHA'},\n",
    "    'Cuet': {0: 'cue'},\n",
    "    'Lick': {0: 'lick'},\n",
    "    'Rwrp': {0: 'reward'},\n",
    "    'endr': {0: 'encoder'}\n",
    "    }"
   ]
  },
  {
   "cell_type": "markdown",
   "metadata": {},
   "source": [
    "# 3. Run the cell below to remove the pynapse csvs, create output directoroes and generate storeslist\n"
   ]
  },
  {
   "cell_type": "code",
   "execution_count": 3,
   "metadata": {},
   "outputs": [
    {
     "name": "stdout",
     "output_type": "stream",
     "text": [
      "[PosixPath('//Users/mds8301/Desktop/temp/3812-240217-115539/Pynapse1_console_output.txt'), PosixPath('//Users/mds8301/Desktop/temp/3812-240217-115539/Pynapse1_call_log.csv'), PosixPath('//Users/mds8301/Desktop/temp/3816-240217-112121/Pynapse1_console_output.txt'), PosixPath('//Users/mds8301/Desktop/temp/3816-240217-112121/Pynapse1_call_log.csv'), PosixPath('//Users/mds8301/Desktop/temp/3818-240217-141344/Pynapse1_console_output.txt'), PosixPath('//Users/mds8301/Desktop/temp/3818-240217-141344/Pynapse1_call_log.csv'), PosixPath('//Users/mds8301/Desktop/temp/3820-240217-144828/Pynapse1_console_output.txt'), PosixPath('//Users/mds8301/Desktop/temp/3820-240217-144828/Pynapse1_call_log.csv'), PosixPath('//Users/mds8301/Desktop/temp/3634-240217-101048/Pynapse1_console_output.txt'), PosixPath('//Users/mds8301/Desktop/temp/3634-240217-101048/Pynapse1_call_log.csv'), PosixPath('//Users/mds8301/Desktop/temp/3813_1-240217-123040/Pynapse1_console_output.txt'), PosixPath('//Users/mds8301/Desktop/temp/3813_1-240217-123040/Pynapse1_call_log.csv'), PosixPath('//Users/mds8301/Desktop/temp/3819-240217-152355/Pynapse1_console_output.txt'), PosixPath('//Users/mds8301/Desktop/temp/3819-240217-152355/Pynapse1_call_log.csv'), PosixPath('//Users/mds8301/Desktop/temp/117-240217-133640/Pynapse1_console_output.txt'), PosixPath('//Users/mds8301/Desktop/temp/117-240217-133640/Pynapse1_call_log.csv'), PosixPath('//Users/mds8301/Desktop/temp/5079-240217-155724/Pynapse1_console_output.txt'), PosixPath('//Users/mds8301/Desktop/temp/5079-240217-155724/Pynapse1_call_log.csv'), PosixPath('//Users/mds8301/Desktop/temp/3814-240217-104506/Pynapse1_console_output.txt'), PosixPath('//Users/mds8301/Desktop/temp/3814-240217-104506/Pynapse1_call_log.csv')]\n"
     ]
    }
   ],
   "source": [
    "remove_pynapse_csv_files(PATH) # you can comment out this line if you dont have pynapse csv files generated by the icon or leave it, if the file doesnt exist it doesn't do anything\n",
    "create_output_directories(PATH)\n",
    "autostores_list(path = PATH,\n",
    "                directory_keyword= \"_output_\", \n",
    "                stores_list =STORES_LIST)"
   ]
  },
  {
   "cell_type": "code",
   "execution_count": null,
   "metadata": {},
   "outputs": [],
   "source": []
  }
 ],
 "metadata": {
  "kernelspec": {
   "display_name": "lldb",
   "language": "python",
   "name": "python3"
  },
  "language_info": {
   "codemirror_mode": {
    "name": "ipython",
    "version": 3
   },
   "file_extension": ".py",
   "mimetype": "text/x-python",
   "name": "python",
   "nbconvert_exporter": "python",
   "pygments_lexer": "ipython3",
   "version": "3.11.7"
  }
 },
 "nbformat": 4,
 "nbformat_minor": 2
}
