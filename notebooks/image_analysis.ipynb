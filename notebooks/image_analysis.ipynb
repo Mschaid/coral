{
 "cells": [
  {
   "cell_type": "raw",
   "metadata": {
    "vscode": {
     "languageId": "raw"
    }
   },
   "source": [
    "---\n",
    "title: \"Image Analysis for Dual Label Retrograde Experiments\" \n",
    "author: \"Mike Schaid\"\n",
    "date: \"2024-07-17\"\n",
    "theme: cosmo\n",
    "format: \n",
    "  html: \n",
    "    monobackgroundcolor: '#f1f1f101'\n",
    "    code-fold: true\n",
    "    code-block-border-left: true\n",
    "    code-block-bg: \"#0000\"\n",
    "    highlight-style: a11y\n",
    "    embed-resources: true\n",
    "---"
   ]
  },
  {
   "cell_type": "markdown",
   "metadata": {},
   "source": [
    "#### Imports\n"
   ]
  },
  {
   "cell_type": "code",
   "execution_count": 7,
   "metadata": {},
   "outputs": [],
   "source": [
    "import seaborn as sns \n",
    "import polars as pl\n",
    "import matplotlib.pyplot as plt\n",
    "import pingouin as pg\n",
    "import pandas as pd\n"
   ]
  },
  {
   "cell_type": "markdown",
   "metadata": {},
   "source": [
    "### processsing functions"
   ]
  },
  {
   "cell_type": "code",
   "execution_count": 10,
   "metadata": {},
   "outputs": [],
   "source": [
    "\n",
    "\n",
    "\n",
    "def get_injection_site(mouse_id, injection_dict):\n",
    "    for site, mice in injection_dict.items():\n",
    "        if mouse_id in mice:\n",
    "            return site\n",
    "    return None\n",
    "\n",
    "injection_site_map = {\n",
    "    'mouse_id': [id for ids in injection_site.values() for id in ids],\n",
    "    'injection_site': [site for site, ids in injection_site.items() for id in ids]\n",
    "}\n",
    "injection_site_df = pl.DataFrame(injection_site_map)\n",
    "\n",
    "def format_data_for_plotting(df, cols):\n",
    "    injection_site = {\n",
    "            'LHA': [20017817,\n",
    "        20017818,\n",
    "        20017819,\n",
    "        20117654,\n",
    "        20117655],\n",
    "            'NAC': [20217850,\n",
    "        20317860,\n",
    "        20417815,\n",
    "        20417816]\n",
    "        }\n",
    "    df = df.join(injection_site_df, on='mouse_id', how='inner')\n",
    "    return (df\n",
    "            .melt(id_vars=['label', 'mouse_id', 'region'], value_vars= cols,\n",
    "                  variable_name = 'metric', value_name = 'value')\n",
    "            .group_by(['mouse_id','metric', 'region']).agg([\n",
    "                pl.col('value').mean().alias('mean'),\n",
    "                pl.col('label').count().alias('count')\n",
    "            ])\n",
    "    )\n",
    "plot_cols = ['count', 'mean_intensity', 'area']\n",
    "def format_data_for_stats(df):\n",
    "    return (df\n",
    "            .filter(pl.col('metric').is_in(plot_cols))\n",
    "            .drop('mouse_id')\n",
    "            .pivot(on='metric', values='mean')\n",
    "            .with_columns(pl.col('count').cast(pl.Float32))\n",
    "            .to_pandas()\n",
    "            \n",
    "    )"
   ]
  },
  {
   "cell_type": "markdown",
   "metadata": {},
   "source": [
    "### process and format"
   ]
  },
  {
   "cell_type": "code",
   "execution_count": 15,
   "metadata": {},
   "outputs": [
    {
     "data": {
      "text/html": [
       "<div><style>\n",
       ".dataframe > thead > tr,\n",
       ".dataframe > tbody > tr {\n",
       "  text-align: right;\n",
       "  white-space: pre-wrap;\n",
       "}\n",
       "</style>\n",
       "<small>shape: (9, 2)</small><table border=\"1\" class=\"dataframe\"><thead><tr><th>mouse_id</th><th>injection_site</th></tr><tr><td>i64</td><td>str</td></tr></thead><tbody><tr><td>20017817</td><td>&quot;LHA&quot;</td></tr><tr><td>20017818</td><td>&quot;LHA&quot;</td></tr><tr><td>20017819</td><td>&quot;LHA&quot;</td></tr><tr><td>20117654</td><td>&quot;LHA&quot;</td></tr><tr><td>20117655</td><td>&quot;LHA&quot;</td></tr><tr><td>20217850</td><td>&quot;NAC&quot;</td></tr><tr><td>20317860</td><td>&quot;NAC&quot;</td></tr><tr><td>20417815</td><td>&quot;NAC&quot;</td></tr><tr><td>20417816</td><td>&quot;NAC&quot;</td></tr></tbody></table></div>"
      ],
      "text/plain": [
       "shape: (9, 2)\n",
       "┌──────────┬────────────────┐\n",
       "│ mouse_id ┆ injection_site │\n",
       "│ ---      ┆ ---            │\n",
       "│ i64      ┆ str            │\n",
       "╞══════════╪════════════════╡\n",
       "│ 20017817 ┆ LHA            │\n",
       "│ 20017818 ┆ LHA            │\n",
       "│ 20017819 ┆ LHA            │\n",
       "│ 20117654 ┆ LHA            │\n",
       "│ 20117655 ┆ LHA            │\n",
       "│ 20217850 ┆ NAC            │\n",
       "│ 20317860 ┆ NAC            │\n",
       "│ 20417815 ┆ NAC            │\n",
       "│ 20417816 ┆ NAC            │\n",
       "└──────────┴────────────────┘"
      ]
     },
     "execution_count": 15,
     "metadata": {},
     "output_type": "execute_result"
    }
   ],
   "source": [
    "injection_site = {\n",
    "    'LHA': [20017817,\n",
    "20017818,\n",
    "20017819,\n",
    "20117654,\n",
    "20117655],\n",
    "    'NAC': [20217850,\n",
    "20317860,\n",
    "20417815,\n",
    "20417816]\n",
    "}\n",
    "\n",
    "def get_injection_site(mouse_id, injection_dict):\n",
    "    for site, mice in injection_dict.items():\n",
    "        if mouse_id in mice:\n",
    "            return site\n",
    "    return None\n",
    "\n",
    "injection_site_map = {\n",
    "    'mouse_id': [id for ids in injection_site.values() for id in ids],\n",
    "    'injection_site': [site for site, ids in injection_site.items() for id in ids]\n",
    "}\n",
    "injection_site_df = pl.DataFrame(injection_site_map)\n",
    "\n"
   ]
  },
  {
   "cell_type": "code",
   "execution_count": 11,
   "metadata": {},
   "outputs": [
    {
     "name": "stderr",
     "output_type": "stream",
     "text": [
      "/var/folders/_3/4x4mtlsd3n37vfrcjmsz1vcd8clmkl/T/ipykernel_28617/1884075.py:3: DeprecationWarning: `DataFrame.melt` is deprecated. Use `unpivot` instead, with `index` instead of `id_vars` and `on` instead of `value_vars`\n",
      "  .melt(id_vars=['label', 'mouse_id', 'region'], value_vars= cols,\n"
     ]
    }
   ],
   "source": [
    "\n",
    "# read data into polars\n",
    "path = '/Volumes/fsmresfiles/Basic_Sciences/Phys/Lerner_Lab_tnl2633/Mike/LHA_dopamine/Retrograde_tracing/CAV_FRTCRE_THFLPO_dual_label/confocal_images/analyzed_data/analyzed_data.csv'\n",
    "df = pl.read_csv(path)\n",
    "\n",
    "#format data for plotting\n",
    "cols = ['area', 'mean_intensity', 'equivalent_diameter', 'eccentricity', 'major_axis_length', 'minor_axis_length',  'solidity']\n",
    "data = format_data_for_plotting(df, cols)\n",
    "\n",
    "\n",
    "piv_data = format_data_for_stats(data)\n",
    "\n"
   ]
  },
  {
   "cell_type": "code",
   "execution_count": 13,
   "metadata": {},
   "outputs": [
    {
     "data": {
      "text/html": [
       "<div><style>\n",
       ".dataframe > thead > tr,\n",
       ".dataframe > tbody > tr {\n",
       "  text-align: right;\n",
       "  white-space: pre-wrap;\n",
       "}\n",
       "</style>\n",
       "<small>shape: (98, 5)</small><table border=\"1\" class=\"dataframe\"><thead><tr><th>mouse_id</th><th>metric</th><th>region</th><th>mean</th><th>count</th></tr><tr><td>i64</td><td>str</td><td>str</td><td>f64</td><td>u32</td></tr></thead><tbody><tr><td>20317860</td><td>&quot;equivalent_diameter&quot;</td><td>&quot;LHA&quot;</td><td>12.230957</td><td>1148</td></tr><tr><td>20417816</td><td>&quot;minor_axis_length&quot;</td><td>&quot;LHA&quot;</td><td>9.316283</td><td>1164</td></tr><tr><td>20017550</td><td>&quot;major_axis_length&quot;</td><td>&quot;LHA&quot;</td><td>22.396402</td><td>276</td></tr><tr><td>20317860</td><td>&quot;minor_axis_length&quot;</td><td>&quot;LHA&quot;</td><td>9.200658</td><td>1148</td></tr><tr><td>20117654</td><td>&quot;minor_axis_length&quot;</td><td>&quot;NAC&quot;</td><td>10.628575</td><td>1392</td></tr><tr><td>&hellip;</td><td>&hellip;</td><td>&hellip;</td><td>&hellip;</td><td>&hellip;</td></tr><tr><td>20117654</td><td>&quot;mean_intensity&quot;</td><td>&quot;NAC&quot;</td><td>306.121727</td><td>1392</td></tr><tr><td>20317818</td><td>&quot;eccentricity&quot;</td><td>&quot;NAC&quot;</td><td>0.818117</td><td>5536</td></tr><tr><td>20117655</td><td>&quot;area&quot;</td><td>&quot;NAC&quot;</td><td>192.231634</td><td>2845</td></tr><tr><td>20317860</td><td>&quot;area&quot;</td><td>&quot;LHA&quot;</td><td>135.999129</td><td>1148</td></tr><tr><td>20017817</td><td>&quot;major_axis_length&quot;</td><td>&quot;LHA&quot;</td><td>17.846376</td><td>781</td></tr></tbody></table></div>"
      ],
      "text/plain": [
       "shape: (98, 5)\n",
       "┌──────────┬─────────────────────┬────────┬────────────┬───────┐\n",
       "│ mouse_id ┆ metric              ┆ region ┆ mean       ┆ count │\n",
       "│ ---      ┆ ---                 ┆ ---    ┆ ---        ┆ ---   │\n",
       "│ i64      ┆ str                 ┆ str    ┆ f64        ┆ u32   │\n",
       "╞══════════╪═════════════════════╪════════╪════════════╪═══════╡\n",
       "│ 20317860 ┆ equivalent_diameter ┆ LHA    ┆ 12.230957  ┆ 1148  │\n",
       "│ 20417816 ┆ minor_axis_length   ┆ LHA    ┆ 9.316283   ┆ 1164  │\n",
       "│ 20017550 ┆ major_axis_length   ┆ LHA    ┆ 22.396402  ┆ 276   │\n",
       "│ 20317860 ┆ minor_axis_length   ┆ LHA    ┆ 9.200658   ┆ 1148  │\n",
       "│ 20117654 ┆ minor_axis_length   ┆ NAC    ┆ 10.628575  ┆ 1392  │\n",
       "│ …        ┆ …                   ┆ …      ┆ …          ┆ …     │\n",
       "│ 20117654 ┆ mean_intensity      ┆ NAC    ┆ 306.121727 ┆ 1392  │\n",
       "│ 20317818 ┆ eccentricity        ┆ NAC    ┆ 0.818117   ┆ 5536  │\n",
       "│ 20117655 ┆ area                ┆ NAC    ┆ 192.231634 ┆ 2845  │\n",
       "│ 20317860 ┆ area                ┆ LHA    ┆ 135.999129 ┆ 1148  │\n",
       "│ 20017817 ┆ major_axis_length   ┆ LHA    ┆ 17.846376  ┆ 781   │\n",
       "└──────────┴─────────────────────┴────────┴────────────┴───────┘"
      ]
     },
     "execution_count": 13,
     "metadata": {},
     "output_type": "execute_result"
    }
   ],
   "source": [
    "data"
   ]
  },
  {
   "cell_type": "markdown",
   "metadata": {},
   "source": [
    "### Calculate ANOVA and save"
   ]
  },
  {
   "cell_type": "code",
   "execution_count": 12,
   "metadata": {},
   "outputs": [],
   "source": [
    "count_anov = pg.anova(piv_data, dv = 'count', between='region', detailed=True)\n",
    "intensity_anov = pg.anova(piv_data, dv = 'mean_intensity', between='region', detailed=True)\n",
    "area_anov = pg.anova(piv_data, dv = 'area', between='region', detailed=True)\n",
    "\n",
    "path_to_save = \"/Users/mds8301/Desktop/lha_paper/figures/anatomy\"\n",
    "\n",
    "def assign_col(df:pd.DataFrame, var:str):\n",
    "    return (df.assign(variable = var))\n",
    "frames = [count_anov, intensity_anov, area_anov]\n",
    "cols= ['count', 'intensity', 'area']\n",
    "stats = pd.concat([assign_col(df, c) for df, c in zip(frames, cols)])\n",
    "stats.to_csv(f\"{path_to_save}/images_anova_analysis.csv\")\n",
    "\n"
   ]
  },
  {
   "cell_type": "markdown",
   "metadata": {},
   "source": [
    "### Plot and save"
   ]
  },
  {
   "cell_type": "code",
   "execution_count": 47,
   "metadata": {},
   "outputs": [
    {
     "data": {
      "text/html": [
       "<div>\n",
       "<style scoped>\n",
       "    .dataframe tbody tr th:only-of-type {\n",
       "        vertical-align: middle;\n",
       "    }\n",
       "\n",
       "    .dataframe tbody tr th {\n",
       "        vertical-align: top;\n",
       "    }\n",
       "\n",
       "    .dataframe thead th {\n",
       "        text-align: right;\n",
       "    }\n",
       "</style>\n",
       "<table border=\"1\" class=\"dataframe\">\n",
       "  <thead>\n",
       "    <tr style=\"text-align: right;\">\n",
       "      <th></th>\n",
       "      <th>Source</th>\n",
       "      <th>SS</th>\n",
       "      <th>DF</th>\n",
       "      <th>MS</th>\n",
       "      <th>F</th>\n",
       "      <th>p-unc</th>\n",
       "      <th>np2</th>\n",
       "      <th>variable</th>\n",
       "    </tr>\n",
       "  </thead>\n",
       "  <tbody>\n",
       "    <tr>\n",
       "      <th>0</th>\n",
       "      <td>region</td>\n",
       "      <td>2.747081e+07</td>\n",
       "      <td>1</td>\n",
       "      <td>2.747081e+07</td>\n",
       "      <td>16.748947</td>\n",
       "      <td>0.001492</td>\n",
       "      <td>0.582593</td>\n",
       "      <td>count</td>\n",
       "    </tr>\n",
       "    <tr>\n",
       "      <th>0</th>\n",
       "      <td>region</td>\n",
       "      <td>1.025676e+05</td>\n",
       "      <td>1</td>\n",
       "      <td>1.025676e+05</td>\n",
       "      <td>1.211793</td>\n",
       "      <td>0.292569</td>\n",
       "      <td>0.091721</td>\n",
       "      <td>intensity</td>\n",
       "    </tr>\n",
       "    <tr>\n",
       "      <th>0</th>\n",
       "      <td>region</td>\n",
       "      <td>3.149550e+02</td>\n",
       "      <td>1</td>\n",
       "      <td>3.149550e+02</td>\n",
       "      <td>0.143236</td>\n",
       "      <td>0.711695</td>\n",
       "      <td>0.011796</td>\n",
       "      <td>area</td>\n",
       "    </tr>\n",
       "  </tbody>\n",
       "</table>\n",
       "</div>"
      ],
      "text/plain": [
       "   Source            SS  DF            MS          F     p-unc       np2   \n",
       "0  region  2.747081e+07   1  2.747081e+07  16.748947  0.001492  0.582593  \\\n",
       "0  region  1.025676e+05   1  1.025676e+05   1.211793  0.292569  0.091721   \n",
       "0  region  3.149550e+02   1  3.149550e+02   0.143236  0.711695  0.011796   \n",
       "\n",
       "    variable  \n",
       "0      count  \n",
       "0  intensity  \n",
       "0       area  "
      ]
     },
     "execution_count": 47,
     "metadata": {},
     "output_type": "execute_result"
    },
    {
     "data": {
      "image/png": "[encoded data removed]",
      "text/plain": [
       "<Figure size 500x200 with 3 Axes>"
      ]
     },
     "metadata": {},
     "output_type": "display_data"
    }
   ],
   "source": [
    "\n",
    "plot_cols = ['area','mean_intensity', 'count']\n",
    "layout =\"\"\"ABC\"\"\"\n",
    "plt_kws = {'hue': 'region', \n",
    "           'hue_order': ['LHA', 'NAC'],\n",
    "           'palette': ['#32a856', 'lightgrey'],\n",
    "           'errorbar': 'se', \n",
    "           'capsize': 0.1, \n",
    "           'linewidth': 1, \n",
    "           'edgecolor':'black'\n",
    "           }\n",
    "\n",
    "err_kws =  {'alpha': 0.8, 'lw': 1}\n",
    "\n",
    "\n",
    "fig, ax = plt.subplot_mosaic(mosaic=layout, figsize=(5,2), sharex=True)\n",
    "for a, c in zip(''.join(layout.split('\\n')), plot_cols):\n",
    "        df_plot = data.filter(pl.col('metric')==c).to_pandas()\n",
    "        sns.barplot(data = df_plot, x = 'region', y = 'mean', ax = ax[a], **plt_kws, err_kws=err_kws)\n",
    "        # ax[a].axhline(y=df_plot['mean'].mean(), xmin = 0.25, xmax = .75 )\n",
    "        ax[a].yaxis.set_major_locator(plt.MaxNLocator(5))\n",
    "        ax[a].set_title(c, fontsize=10)\n",
    "        sns.despine(ax=ax[a])\n",
    "        \n",
    "sns.barplot(data = data.filter(pl.col('metric')=='area').to_pandas(), x = 'region', y = 'count', ax = ax['C'], **plt_kws, err_kws=err_kws)\n",
    "\n",
    "\n",
    "\n",
    "ax['A'].set_ylabel('Area (μm²)')\n",
    "ax['B'].set_ylabel('Intensity (A.U.)')\n",
    "ax['C'].set_ylabel('Number of Punctae')\n",
    "\n",
    "ax['A'].set_title('Puncutate Area', fontsize=10)\n",
    "ax['B'].set_title('Puncutate Mean Fluorsence', fontsize=10)\n",
    "ax['C'].set_title('Punctae Count', fontsize=10)\n",
    "ax['A'].set_xlabel('')\n",
    "ax['B'].set_xlabel('')\n",
    "ax['C'].set_xlabel('')\n",
    "\n",
    "plt.tight_layout()\n",
    "plt.rcParams['svg.fonttype'] = 'none'\n",
    "plt.savefig(f\"{path_to_save}/image_analysis.svg\", format='svg', transparent=True, bbox_inches='tight')\n",
    "stats.query(\"Source=='region'\")\n"
   ]
  },
  {
   "cell_type": "code",
   "execution_count": null,
   "metadata": {},
   "outputs": [],
   "source": []
  }
 ],
 "metadata": {
  "kernelspec": {
   "display_name": "coral",
   "language": "python",
   "name": "python3"
  },
  "language_info": {
   "codemirror_mode": {
    "name": "ipython",
    "version": 3
   },
   "file_extension": ".py",
   "mimetype": "text/x-python",
   "name": "python",
   "nbconvert_exporter": "python",
   "pygments_lexer": "ipython3",
   "version": "3.11.7"
  }
 },
 "nbformat": 4,
 "nbformat_minor": 2
}
