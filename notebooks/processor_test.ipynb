{
 "cells": [
  {
   "cell_type": "code",
   "execution_count": 2,
   "metadata": {},
   "outputs": [],
   "source": [
    "%load_ext autoreload\n",
    "%autoreload 2"
   ]
  },
  {
   "cell_type": "code",
   "execution_count": 6,
   "metadata": {},
   "outputs": [],
   "source": [
    "from coral.data_preprocessor import BehaviorDataPreprocessor, PhotometryDataPreprocessor\n",
    "from coral.experimental_metadata import ExperimentMetaData\n",
    "from coral.config_loader import ConfigLoader\n",
    "import datetime\n",
    "import numpy as np\n",
    "import pandas as pd\n",
    "import polars as pl\n",
    "import seaborn as sns\n",
    "import matplotlib.pyplot as plt\n",
    "import matplotlib.patches as patches\n",
    "from pathlib import Path\n",
    "\n",
    "pl.enable_string_cache()\n",
    "\n",
    "config_path = '/Volumes/fsmresfiles/Basic_Sciences/Phys/Lerner_Lab_tnl2633/Mike/LHA_dopamine/LH_NAC_Headfix_FP/Photometry/Pav_Training/claire_cohort/conf/config.yaml'\n",
    "test_data_path = '/Users/mds8301/Desktop/temp/117-240222-125222'\n",
    "configs = ConfigLoader(config_path)\n",
    "meta_data = ExperimentMetaData(configs, test_data_path)\n",
    "sucralose_start_date_str = configs.config_data['reward_dates']['sucralose']\n",
    "\n",
    "sucralose_start_date = datetime.datetime.strptime(\n",
    "    sucralose_start_date_str, '%m-%d-%Y').date()\n",
    "\n",
    "males = configs.config_data['males']"
   ]
  },
  {
   "cell_type": "code",
   "execution_count": 7,
   "metadata": {},
   "outputs": [],
   "source": [
    "meta_data = ExperimentMetaData(configs, test_data_path)"
   ]
  },
  {
   "cell_type": "code",
   "execution_count": 13,
   "metadata": {},
   "outputs": [
    {
     "data": {
      "text/plain": [
       "{'sucrose': datetime.date(2024, 2, 1), 'sucralose': datetime.date(2024, 2, 22)}"
      ]
     },
     "execution_count": 13,
     "metadata": {},
     "output_type": "execute_result"
    }
   ],
   "source": [
    "test_proc = BehaviorDataPreprocessor(meta_data)\n",
    "test_proc.metadata.reward_dates"
   ]
  },
  {
   "cell_type": "code",
   "execution_count": null,
   "metadata": {},
   "outputs": [],
   "source": []
  }
 ],
 "metadata": {
  "kernelspec": {
   "display_name": "coral",
   "language": "python",
   "name": "python3"
  },
  "language_info": {
   "codemirror_mode": {
    "name": "ipython",
    "version": 3
   },
   "file_extension": ".py",
   "mimetype": "text/x-python",
   "name": "python",
   "nbconvert_exporter": "python",
   "pygments_lexer": "ipython3",
   "version": "3.11.7"
  }
 },
 "nbformat": 4,
 "nbformat_minor": 2
}
